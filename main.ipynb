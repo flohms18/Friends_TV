{
 "cells": [
  {
   "cell_type": "code",
   "execution_count": 100,
   "id": "12269da0",
   "metadata": {},
   "outputs": [
    {
     "name": "stdout",
     "output_type": "stream",
     "text": [
      "Hello There\n"
     ]
    }
   ],
   "source": [
    "def hello():\n",
    "    print(\"Hello There\")\n",
    "\n",
    "hello()"
   ]
  },
  {
   "cell_type": "code",
   "execution_count": 101,
   "id": "e602d856",
   "metadata": {},
   "outputs": [],
   "source": [
    "import pandas as pd\n",
    "import matplotlib.pyplot as plt"
   ]
  },
  {
   "cell_type": "code",
   "execution_count": 102,
   "id": "0e7c4138",
   "metadata": {},
   "outputs": [
    {
     "name": "stdout",
     "output_type": "stream",
     "text": [
      "<class 'pandas.core.frame.DataFrame'>\n",
      "RangeIndex: 235 entries, 0 to 234\n",
      "Data columns (total 8 columns):\n",
      " #   Column         Non-Null Count  Dtype  \n",
      "---  ------         --------------  -----  \n",
      " 0   Year_of_prod   235 non-null    int64  \n",
      " 1   Season         235 non-null    int64  \n",
      " 2   Episode_Title  235 non-null    object \n",
      " 3   Duration       235 non-null    int64  \n",
      " 4   Summary        235 non-null    object \n",
      " 5   Director       235 non-null    object \n",
      " 6   Stars          235 non-null    float64\n",
      " 7   Votes          235 non-null    int64  \n",
      "dtypes: float64(1), int64(4), object(3)\n",
      "memory usage: 14.8+ KB\n",
      "None\n"
     ]
    }
   ],
   "source": [
    "df = pd.read_csv(\"friends_episodes_v2.csv\")\n",
    "\n",
    "print(df.info())"
   ]
  },
  {
   "cell_type": "code",
   "execution_count": 103,
   "id": "7b7772d8",
   "metadata": {},
   "outputs": [
    {
     "name": "stdout",
     "output_type": "stream",
     "text": [
      "<pandas.core.groupby.generic.DataFrameGroupBy object at 0x1754b6060>\n",
      "Season\n",
      "1     8.317391\n",
      "2     8.458333\n",
      "3     8.408000\n",
      "4     8.475000\n",
      "5     8.637500\n",
      "6     8.496000\n",
      "7     8.437500\n",
      "8     8.445833\n",
      "9     8.291667\n",
      "10    8.677778\n",
      "Name: Stars, dtype: float64\n",
      "8.464500241545895\n"
     ]
    },
    {
     "data": {
      "image/png": "[encoded data removed]",
      "text/plain": [
       "<Figure size 640x480 with 1 Axes>"
      ]
     },
     "metadata": {},
     "output_type": "display_data"
    }
   ],
   "source": [
    "import numpy as np\n",
    "\n",
    "Season = df.groupby('Season')\n",
    "print(Season)\n",
    "james = df.groupby('Season')['Stars'].mean()\n",
    "print(james)\n",
    "global_rate = james.mean()\n",
    "print(global_rate)\n",
    "\n",
    "\n",
    "\n",
    "rates = [0,1,2,3,4,5,6,7,8,9,10]\n",
    "plt.figure(facecolor='#F8F9FA')\n",
    "plt.title(\"Average rate for each season of Friends\")\n",
    "plt.plot(james.index, james.values,color=\"#232d3f\")\n",
    "plt.xticks(james.index)\n",
    "plt.yticks(rates)\n",
    "ax = plt.gca()\n",
    "ax.set_facecolor(\"#F8F9FA\")\n",
    "\n",
    "plt.show()\n",
    "\n"
   ]
  },
  {
   "cell_type": "code",
   "execution_count": 104,
   "id": "4701b324",
   "metadata": {},
   "outputs": [
    {
     "name": "stdout",
     "output_type": "stream",
     "text": [
      "<class 'pandas.core.frame.DataFrame'>\n",
      "RangeIndex: 235 entries, 0 to 234\n",
      "Data columns (total 8 columns):\n",
      " #   Column         Non-Null Count  Dtype  \n",
      "---  ------         --------------  -----  \n",
      " 0   Year_of_prod   235 non-null    int64  \n",
      " 1   Season         235 non-null    int64  \n",
      " 2   Episode_Title  235 non-null    object \n",
      " 3   Duration       235 non-null    int64  \n",
      " 4   Summary        235 non-null    object \n",
      " 5   Director       235 non-null    object \n",
      " 6   Stars          235 non-null    float64\n",
      " 7   Votes          235 non-null    int64  \n",
      "dtypes: float64(1), int64(4), object(3)\n",
      "memory usage: 14.8+ KB\n",
      "None\n"
     ]
    }
   ],
   "source": [
    "votes_user = df.info()\n",
    "print(votes_user)"
   ]
  },
  {
   "cell_type": "code",
   "execution_count": 105,
   "id": "8aba6947",
   "metadata": {},
   "outputs": [
    {
     "name": "stdout",
     "output_type": "stream",
     "text": [
      "Season\n",
      "1     4148.0\n",
      "2     3709.0\n",
      "3     3458.0\n",
      "4     3393.0\n",
      "5     3456.0\n",
      "6     3153.0\n",
      "7     2941.0\n",
      "8     2984.0\n",
      "9     2761.0\n",
      "10    3626.0\n",
      "Name: Votes, dtype: float64\n"
     ]
    }
   ],
   "source": [
    "My_Votes = df.groupby('Season')['Votes'].mean().round()\n",
    "print(My_Votes)"
   ]
  },
  {
   "cell_type": "code",
   "execution_count": 106,
   "id": "9923b8f4",
   "metadata": {},
   "outputs": [
    {
     "name": "stdout",
     "output_type": "stream",
     "text": [
      "0       James Burrows\n",
      "1       James Burrows\n",
      "2       James Burrows\n",
      "3       Pamela Fryman\n",
      "4      Arlene Sanford\n",
      "            ...      \n",
      "230    Gary Halvorson\n",
      "231    Gary Halvorson\n",
      "232    Gary Halvorson\n",
      "233      Kevin Bright\n",
      "234      Kevin Bright\n",
      "Name: Director, Length: 235, dtype: object\n"
     ]
    }
   ],
   "source": [
    "Director = df['Director']\n",
    "print(Director)\n",
    "\n"
   ]
  },
  {
   "cell_type": "code",
   "execution_count": 112,
   "id": "b09f2116",
   "metadata": {},
   "outputs": [
    {
     "name": "stdout",
     "output_type": "stream",
     "text": [
      "10\n",
      "225\n"
     ]
    },
    {
     "data": {
      "image/png": "[encoded data removed]",
      "text/plain": [
       "<Figure size 640x480 with 1 Axes>"
      ]
     },
     "metadata": {},
     "output_type": "display_data"
    }
   ],
   "source": [
    "plt.figure(facecolor='#F8F9FA')\n",
    "plt.title(\"Share of Episodes directed by David Schwimmer\")\n",
    "Director_Count = df.groupby('Director')['Season'].size()\n",
    "\n",
    "Director = df['Director']\n",
    "Ross_g = []\n",
    "Others = []\n",
    "\n",
    "Friends_Label = ['David Schwimmer','Others']\n",
    "Friends_Color = ['#5562EA','#232d3f','#']\n",
    "\n",
    "for index, row in df.iterrows():\n",
    "    if row['Director'] == 'David Schwimmer':\n",
    "        Ross_g.append(row['Director'])\n",
    "    else :\n",
    "        Others.append(row['Director'])\n",
    "print(len(Ross_g))\n",
    "print(len(Others))\n",
    "\n",
    "test = np.array([len(Ross_g),len(Others)])\n",
    "ax = plt.gca()\n",
    "plt.pie(x=test,labels=Friends_Label,colors=Friends_Color,autopct='%1.1f%%',textprops={'color': 'w'})\n",
    "plt.show()"
   ]
  }
 ],
 "metadata": {
  "kernelspec": {
   "display_name": "base",
   "language": "python",
   "name": "python3"
  },
  "language_info": {
   "codemirror_mode": {
    "name": "ipython",
    "version": 3
   },
   "file_extension": ".py",
   "mimetype": "text/x-python",
   "name": "python",
   "nbconvert_exporter": "python",
   "pygments_lexer": "ipython3",
   "version": "3.12.7"
  }
 },
 "nbformat": 4,
 "nbformat_minor": 5
}
